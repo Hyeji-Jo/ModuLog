{
 "cells": [
  {
   "cell_type": "markdown",
   "metadata": {},
   "source": [
    "# ※각 포매팅 코드는 파일 확장자명을 바꾸기 때문에 돌리실 때 조심하셔야 합니다."
   ]
  },
  {
   "cell_type": "markdown",
   "metadata": {},
   "source": [
    "### 한국어 말뭉치 2023 (일상대화) RTTM Formatting"
   ]
  },
  {
   "cell_type": "code",
   "execution_count": null,
   "metadata": {},
   "outputs": [],
   "source": [
    "import os\n",
    "import json\n",
    "\n",
    "def json_to_rttm(json_file, json_dir, output_dir):\n",
    "    \"\"\"JSON 파일을 읽고 RTTM 포맷으로 변환 후 저장\"\"\"\n",
    "    json_path = os.path.join(json_dir, json_file)\n",
    "    \n",
    "    with open(json_path, 'r', encoding='utf-8') as f:\n",
    "        data = json.load(f)\n",
    "    \n",
    "    rttm_lines = []\n",
    "    data_name = os.path.splitext(json_file)[0]  \n",
    "\n",
    "    for speech in data.get('document', [{}])[0].get('utterance', []):\n",
    "        start_ms = float(speech.get('start', 0))\n",
    "        end_ms = float(speech.get('end', 0))\n",
    "        duration = round(end_ms - start_ms, 5)\n",
    "        speaker_id = speech.get('speaker_id', 'unknown')\n",
    "\n",
    "        # RTTM 포맷 라인 생성\n",
    "        rttm_line = f\"SPEAKER {data_name} 1 {start_ms:.3f} {duration:.3f} <NA> <NA> {speaker_id} <NA>\"\n",
    "        rttm_lines.append(rttm_line)\n",
    "\n",
    "    # RTTM 파일 저장\n",
    "    rttm_file = os.path.join(output_dir, f\"{data_name}.rttm\")\n",
    "    with open(rttm_file, 'w', encoding='utf-8') as f:\n",
    "        f.write(\"\\n\".join(rttm_lines) + \"\\n\")\n",
    "\n",
    "    print(f\"✅ RTTM 파일 생성 완료: {rttm_file}\")\n",
    "\n",
    "# 디렉토리 설정\n",
    "json_dir = \"kor/json/\"\n",
    "output_dir = \"kor/rttm/\"\n",
    "\n",
    "# 출력 디렉토리 생성 (존재하지 않으면)\n",
    "os.makedirs(output_dir, exist_ok=True)\n",
    "\n",
    "# JSON 파일 리스트 가져오기\n",
    "json_files = [f for f in os.listdir(json_dir) if f.startswith('SDRW') and f.endswith('.json')]\n",
    "\n",
    "# 변환 실행\n",
    "for json_file in json_files:\n",
    "    json_to_rttm(json_file, json_dir, output_dir)"
   ]
  },
  {
   "cell_type": "markdown",
   "metadata": {},
   "source": [
    "### Alimeeting RTTM Formatting"
   ]
  },
  {
   "cell_type": "code",
   "execution_count": null,
   "metadata": {},
   "outputs": [],
   "source": [
    "import os\n",
    "from praatio import textgrid\n",
    "\n",
    "def tg_to_rttm(tg_file, text_dir, output_dir):\n",
    "    tg_path = os.path.join(text_dir, tg_file)\n",
    "    \n",
    "    tg = textgrid.openTextgrid(tg_path, False)\n",
    "    all_log = []\n",
    "    for name in tg.tierNames:\n",
    "        entries = tg._tierDict[name].entries\n",
    "        for entry in entries:\n",
    "            duration = round(float(entry.end) - float(entry.start), 2)\n",
    "            all_log.append((entry.start, duration, name, entry.label))\n",
    "\n",
    "    all_log.sort(key=lambda x: x[0])\n",
    "\n",
    "    rttm_lines = []\n",
    "    data_name = tg_file.replace(\".TextGrid\", \"\")\n",
    "\n",
    "    for i, log in enumerate(all_log):\n",
    "        start_time, duration, speaker_id, label = log\n",
    "        rttm_line = f\"SPEAKER {data_name} 1 {start_time:.2f} {duration:.2f} <NA> <NA> {speaker_id} <NA>\"\n",
    "        rttm_lines.append(rttm_line)\n",
    "\n",
    "    # RTTM 파일 저장\n",
    "    rttm_file = os.path.join(output_dir, f\"{data_name}.rttm\")\n",
    "    with open(rttm_file, 'w', encoding='utf-8') as f:\n",
    "        f.write(\"\\n\".join(rttm_lines) + \"\\n\")\n",
    "\n",
    "    print(f\"✅ RTTM 파일 생성 완료: {rttm_file}\")\n",
    "    \n",
    "text_dir = \"Train_Ali_far/textgrid_dir/\"\n",
    "output_dir = \"Train_Ali_far/rttm/\"\n",
    "\n",
    "os.makedirs(output_dir, exist_ok=True)\n",
    "\n",
    "tg_files = [f for f in os.listdir(text_dir) if f.endswith('.TextGrid')]\n",
    "\n",
    "for tg_file in tg_files:\n",
    "    tg_to_rttm(tg_file, text_dir, output_dir)\n"
   ]
  },
  {
   "cell_type": "markdown",
   "metadata": {},
   "source": [
    "### Alimeeting "
   ]
  },
  {
   "cell_type": "markdown",
   "metadata": {},
   "source": [
    "#### Alimeeting 오디오파일명이랑, rttm명이 달라서 작성한 코드입니다."
   ]
  },
  {
   "cell_type": "code",
   "execution_count": null,
   "metadata": {},
   "outputs": [],
   "source": [
    "import os\n",
    "\n",
    "# Alimeeting 오디오파일명이랑, rttm명이 달라서 작성한 코드입니다.\n",
    "# 오디오 파일 이름 맞추기기, 돌릴 때 조심/한번만 돌리기.\n",
    "for file in os.listdir('Train_Ali_far/audio_dir'):\n",
    "    file_name = file.split('.')[0]\n",
    "    new_file_name = file_name.split('_')[0] + \"_\" + file_name.split('_')[1] + \".wav\"\n",
    "    os.rename('Train_Ali_far/audio_dir/' + file, 'Train_Ali_far/audio_dir/' + new_file_name)"
   ]
  },
  {
   "cell_type": "markdown",
   "metadata": {},
   "source": [
    "#### Alimeeting을 train, dev, test 셋으로 나누는 코드입니다."
   ]
  },
  {
   "cell_type": "code",
   "execution_count": null,
   "metadata": {},
   "outputs": [],
   "source": [
    "# Alimeeting을 train, dev, test 셋으로 나누는 코드입니다.\n",
    "\n",
    "rttm_dir  = \"Train_Ali_far/rttm\"\n",
    "train_dir = \"Train_Ali_far/rttm/train/\"\n",
    "test_dir = \"Train_Ali_far/rttm/test/\"\n",
    "dev_dir = \"Train_Ali_far/rttm/dev/\"\n",
    "\n",
    "os.makedirs(train_dir, exist_ok=True)\n",
    "os.makedirs(test_dir, exist_ok=True)\n",
    "os.makedirs(dev_dir, exist_ok=True)\n",
    "\n",
    "tg_files = [f for f in os.listdir(rttm_dir) if f.endswith('.rttm')]\n",
    "\n",
    "# train, test, dev split\n",
    "train_count = int(len(tg_files) * 0.8)\n",
    "test_count = int(len(tg_files) * 0.1)\n",
    "dev_count = len(tg_files) - train_count - test_count\n",
    "\n",
    "train_files = tg_files[:train_count]\n",
    "test_files = tg_files[train_count:train_count + test_count]\n",
    "dev_files = tg_files[train_count + test_count:]\n",
    "\n",
    "\n",
    "with open(\"Train_Ali_far/train_list.txt\", \"w\", encoding=\"utf-8\") as f:\n",
    "    for i, file in enumerate(train_files):\n",
    "        f.write(file.split('.')[0] + \"\\n\")\n",
    "\n",
    "\n",
    "# test list txt file\n",
    "with open(\"Train_Ali_far/test_list.txt\", \"w\", encoding=\"utf-8\") as f:\n",
    "    for i, file in enumerate(test_files):\n",
    "        f.write(file.split('.')[0] + \"\\n\")\n",
    "\n",
    "# dev list txt file\n",
    "with open(\"Train_Ali_far/dev_list.txt\", \"w\", encoding=\"utf-8\") as f:\n",
    "    for i, file in enumerate(dev_files):\n",
    "        f.write(file.split('.')[0] + \"\\n\")\n",
    "\n",
    "# move files\n",
    "for f in train_files:\n",
    "    os.rename(os.path.join(rttm_dir, f), os.path.join(train_dir, f))\n",
    "\n",
    "for f in test_files:\n",
    "    os.rename(os.path.join(rttm_dir, f), os.path.join(test_dir, f))\n",
    "\n",
    "for f in dev_files:\n",
    "    os.rename(os.path.join(rttm_dir, f), os.path.join(dev_dir, f))\n",
    "    "
   ]
  },
  {
   "cell_type": "markdown",
   "metadata": {},
   "source": [
    "#### uem 파일을 만드는 코드입니다.\n",
    "- 번거롭게 작성되었는데, 나중에 필요하단 것을 알게되어 그렇습니다. 죄송합니다."
   ]
  },
  {
   "cell_type": "code",
   "execution_count": null,
   "metadata": {},
   "outputs": [],
   "source": [
    "from pydub import AudioSegment\n",
    "import os\n",
    "\n",
    "os.mkdir('Train_Ali_far/uem')\n",
    "os.mkdir('Train_Ali_far/uem/train')\n",
    "os.mkdir('Train_Ali_far/uem/test')\n",
    "os.mkdir('Train_Ali_far/uem/dev')\n",
    "\n",
    "def get_duration(file):\n",
    "    audio = AudioSegment.from_wav(file)\n",
    "    return audio.duration_seconds\n",
    "\n",
    "#get train list file name\n",
    "train_list = []\n",
    "with open('Train_Ali_far/train_list.txt', 'r', encoding='utf-8') as f:\n",
    "    train_list = f.readlines()\n",
    "train_list = [x.strip() for x in train_list]\n",
    "\n",
    "#get test list file name\n",
    "test_list = []\n",
    "with open('Train_Ali_far/test_list.txt', 'r', encoding='utf-8') as f:\n",
    "    test_list = f.readlines()\n",
    "test_list = [x.strip() for x in test_list]\n",
    "\n",
    "#get dev list file name\n",
    "dev_list = []\n",
    "with open('Train_Ali_far/dev_list.txt', 'r', encoding='utf-8') as f:\n",
    "    dev_list = f.readlines()\n",
    "dev_list = [x.strip() for x in dev_list]\n",
    "\n",
    "\n",
    "for file in os.listdir('Train_Ali_far/audio_dir'):\n",
    "    file_name = file.split('.')[0]\n",
    "    duration = get_duration('Train_Ali_far/audio_dir/' + file) \n",
    "\n",
    "    if file_name in train_list:\n",
    "        #generate uem file\n",
    "        with open('Train_Ali_far/uem/train/' + file_name + '.uem', 'w', encoding='utf-8') as f:\n",
    "            f.write(file_name + ' 1 ' + '0.00 ' + str(duration))\n",
    "    \n",
    "    elif file_name in test_list:\n",
    "        #generate uem file\n",
    "        with open('Train_Ali_far/uem/test/' + file_name + '.uem', 'w', encoding='utf-8') as f:\n",
    "            f.write(file_name + ' 1 ' + '0.00 ' + str(duration))\n",
    "    \n",
    "    elif file_name in dev_list:\n",
    "        #generate uem file\n",
    "        with open('Train_Ali_far/uem/dev/' + file_name + '.uem', 'w', encoding='utf-8') as f:\n",
    "            f.write(file_name + ' 1 ' + '0.00 ' + str(duration))"
   ]
  }
 ],
 "metadata": {
  "kernelspec": {
   "display_name": ".venv",
   "language": "python",
   "name": "python3"
  },
  "language_info": {
   "name": "python",
   "version": "3.10.12"
  }
 },
 "nbformat": 4,
 "nbformat_minor": 2
}
